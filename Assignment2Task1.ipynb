{
 "cells": [
  {
   "cell_type": "markdown",
   "id": "7b901603",
   "metadata": {},
   "source": [
    "# COMP47670 Assignment 2"
   ]
  },
  {
   "cell_type": "markdown",
   "id": "e8366374",
   "metadata": {},
   "source": [
    "# Task 1 Data Collection"
   ]
  },
  {
   "cell_type": "markdown",
   "id": "aa60a3e7",
   "metadata": {},
   "source": [
    "studentname:Bate Li             studentnumber:20211669\n",
    "\n",
    "\n",
    "\n",
    "To accomplish this task, we need requests and BeautifulSoup as our web scraping tool.\n",
    "Scrape the complete set of web pages from your personal website address:\n",
    "http://mlg.ucd.ie/modules/python/assign2/<STUDENT_NUMBER>/\n"
   ]
  },
  {
   "cell_type": "code",
   "execution_count": 1,
   "id": "5c0adadf",
   "metadata": {},
   "outputs": [],
   "source": [
    "import requests\n",
    "from bs4 import BeautifulSoup\n",
    "import pandas as pd\n",
    "import numpy as np\n",
    "import pprint\n",
    "import sys\n"
   ]
  },
  {
   "cell_type": "markdown",
   "id": "7f89b8ca",
   "metadata": {},
   "source": [
    "Here creat the base_url"
   ]
  },
  {
   "cell_type": "code",
   "execution_count": 2,
   "id": "6f565f7b",
   "metadata": {},
   "outputs": [],
   "source": [
    "# Requesting & Parsing the Data\n",
    "base_url = \"http://mlg.ucd.ie/modules/python/assign2/20211669/\"\n",
    "#first_page = requests.get(base_url)\n",
    "#first_soup = BeautifulSoup(first_page.content, \"html.parser\")\n",
    "first_soup = BeautifulSoup(requests.get(base_url+ \"index.html\").content, \"html.parser\")\n",
    "#first_soup_link = first_soup.find_all(\"a\", {\"class\": \"list-group-item-action\"})\n",
    "#print(first_soup.prettify())"
   ]
  },
  {
   "cell_type": "markdown",
   "id": "39f18538",
   "metadata": {},
   "source": [
    "2  From the web pages above, parse every review across all years 2016-2021. For each product review, extract the following information:\n",
    "The star rating of the review\n",
    "The title text of the review\n",
    "The main body text of the review\n",
    "Review helpfulness information\n",
    "\n",
    "Creat five lists to contain the data which we scratched"
   ]
  },
  {
   "cell_type": "code",
   "execution_count": 3,
   "id": "0e7158f0",
   "metadata": {},
   "outputs": [
    {
     "name": "stdout",
     "output_type": "stream",
     "text": [
      "Scrapping http://mlg.ucd.ie/modules/python/assign2/20211669/reviews-2016-jan-01.html\n",
      "Scrapping http://mlg.ucd.ie/modules/python/assign2/20211669/reviews-2016-feb-01.html\n",
      "Scrapping http://mlg.ucd.ie/modules/python/assign2/20211669/reviews-2016-mar-01.html\n",
      "Scrapping http://mlg.ucd.ie/modules/python/assign2/20211669/reviews-2016-apr-01.html\n",
      "Scrapping http://mlg.ucd.ie/modules/python/assign2/20211669/reviews-2016-may-01.html\n",
      "Scrapping http://mlg.ucd.ie/modules/python/assign2/20211669/reviews-2016-jun-01.html\n",
      "Scrapping http://mlg.ucd.ie/modules/python/assign2/20211669/reviews-2016-jul-01.html\n",
      "Scrapping http://mlg.ucd.ie/modules/python/assign2/20211669/reviews-2016-aug-01.html\n",
      "Scrapping http://mlg.ucd.ie/modules/python/assign2/20211669/reviews-2016-sep-01.html\n",
      "Scrapping http://mlg.ucd.ie/modules/python/assign2/20211669/reviews-2016-oct-01.html\n",
      "Scrapping http://mlg.ucd.ie/modules/python/assign2/20211669/reviews-2016-nov-01.html\n",
      "Scrapping http://mlg.ucd.ie/modules/python/assign2/20211669/reviews-2016-dec-01.html\n",
      "Scrapping http://mlg.ucd.ie/modules/python/assign2/20211669/reviews-2017-jan-01.html\n",
      "Scrapping http://mlg.ucd.ie/modules/python/assign2/20211669/reviews-2017-feb-01.html\n",
      "Scrapping http://mlg.ucd.ie/modules/python/assign2/20211669/reviews-2017-mar-01.html\n",
      "Scrapping http://mlg.ucd.ie/modules/python/assign2/20211669/reviews-2017-apr-01.html\n",
      "Scrapping http://mlg.ucd.ie/modules/python/assign2/20211669/reviews-2017-may-01.html\n",
      "Scrapping http://mlg.ucd.ie/modules/python/assign2/20211669/reviews-2017-jun-01.html\n",
      "Scrapping http://mlg.ucd.ie/modules/python/assign2/20211669/reviews-2017-jul-01.html\n",
      "Scrapping http://mlg.ucd.ie/modules/python/assign2/20211669/reviews-2017-aug-01.html\n",
      "Scrapping http://mlg.ucd.ie/modules/python/assign2/20211669/reviews-2017-sep-01.html\n",
      "Scrapping http://mlg.ucd.ie/modules/python/assign2/20211669/reviews-2017-oct-01.html\n",
      "Scrapping http://mlg.ucd.ie/modules/python/assign2/20211669/reviews-2017-nov-01.html\n",
      "Scrapping http://mlg.ucd.ie/modules/python/assign2/20211669/reviews-2017-dec-01.html\n",
      "Scrapping http://mlg.ucd.ie/modules/python/assign2/20211669/reviews-2018-jan-01.html\n",
      "Scrapping http://mlg.ucd.ie/modules/python/assign2/20211669/reviews-2018-feb-01.html\n",
      "Scrapping http://mlg.ucd.ie/modules/python/assign2/20211669/reviews-2018-mar-01.html\n",
      "Scrapping http://mlg.ucd.ie/modules/python/assign2/20211669/reviews-2018-apr-01.html\n",
      "Scrapping http://mlg.ucd.ie/modules/python/assign2/20211669/reviews-2018-may-01.html\n",
      "Scrapping http://mlg.ucd.ie/modules/python/assign2/20211669/reviews-2018-jun-01.html\n",
      "Scrapping http://mlg.ucd.ie/modules/python/assign2/20211669/reviews-2018-jul-01.html\n",
      "Scrapping http://mlg.ucd.ie/modules/python/assign2/20211669/reviews-2018-aug-01.html\n",
      "Scrapping http://mlg.ucd.ie/modules/python/assign2/20211669/reviews-2018-sep-01.html\n",
      "Scrapping http://mlg.ucd.ie/modules/python/assign2/20211669/reviews-2018-oct-01.html\n",
      "Scrapping http://mlg.ucd.ie/modules/python/assign2/20211669/reviews-2018-nov-01.html\n",
      "Scrapping http://mlg.ucd.ie/modules/python/assign2/20211669/reviews-2018-dec-01.html\n",
      "Scrapping http://mlg.ucd.ie/modules/python/assign2/20211669/reviews-2019-jan-01.html\n",
      "Scrapping http://mlg.ucd.ie/modules/python/assign2/20211669/reviews-2019-feb-01.html\n",
      "Scrapping http://mlg.ucd.ie/modules/python/assign2/20211669/reviews-2019-mar-01.html\n",
      "Scrapping http://mlg.ucd.ie/modules/python/assign2/20211669/reviews-2019-apr-01.html\n",
      "Scrapping http://mlg.ucd.ie/modules/python/assign2/20211669/reviews-2019-may-01.html\n",
      "Scrapping http://mlg.ucd.ie/modules/python/assign2/20211669/reviews-2019-jun-01.html\n",
      "Scrapping http://mlg.ucd.ie/modules/python/assign2/20211669/reviews-2019-jul-01.html\n",
      "Scrapping http://mlg.ucd.ie/modules/python/assign2/20211669/reviews-2019-aug-01.html\n",
      "Scrapping http://mlg.ucd.ie/modules/python/assign2/20211669/reviews-2019-sep-01.html\n",
      "Scrapping http://mlg.ucd.ie/modules/python/assign2/20211669/reviews-2019-oct-01.html\n",
      "Scrapping http://mlg.ucd.ie/modules/python/assign2/20211669/reviews-2019-nov-01.html\n",
      "Scrapping http://mlg.ucd.ie/modules/python/assign2/20211669/reviews-2019-dec-01.html\n",
      "Scrapping http://mlg.ucd.ie/modules/python/assign2/20211669/reviews-2020-jan-01.html\n",
      "Scrapping http://mlg.ucd.ie/modules/python/assign2/20211669/reviews-2020-feb-01.html\n",
      "Scrapping http://mlg.ucd.ie/modules/python/assign2/20211669/reviews-2020-mar-01.html\n",
      "Scrapping http://mlg.ucd.ie/modules/python/assign2/20211669/reviews-2020-apr-01.html\n",
      "Scrapping http://mlg.ucd.ie/modules/python/assign2/20211669/reviews-2020-may-01.html\n",
      "Scrapping http://mlg.ucd.ie/modules/python/assign2/20211669/reviews-2020-jun-01.html\n",
      "Scrapping http://mlg.ucd.ie/modules/python/assign2/20211669/reviews-2020-jul-01.html\n",
      "Scrapping http://mlg.ucd.ie/modules/python/assign2/20211669/reviews-2020-aug-01.html\n",
      "Scrapping http://mlg.ucd.ie/modules/python/assign2/20211669/reviews-2020-sep-01.html\n",
      "Scrapping http://mlg.ucd.ie/modules/python/assign2/20211669/reviews-2020-oct-01.html\n",
      "Scrapping http://mlg.ucd.ie/modules/python/assign2/20211669/reviews-2020-nov-01.html\n",
      "Scrapping http://mlg.ucd.ie/modules/python/assign2/20211669/reviews-2020-dec-01.html\n",
      "Scrapping http://mlg.ucd.ie/modules/python/assign2/20211669/reviews-2021-jan-01.html\n",
      "Scrapping http://mlg.ucd.ie/modules/python/assign2/20211669/reviews-2021-feb-01.html\n",
      "Scrapping http://mlg.ucd.ie/modules/python/assign2/20211669/reviews-2021-mar-01.html\n",
      "Scrapping http://mlg.ucd.ie/modules/python/assign2/20211669/reviews-2021-apr-01.html\n",
      "Scrapping http://mlg.ucd.ie/modules/python/assign2/20211669/reviews-2021-may-01.html\n",
      "Scrapping http://mlg.ucd.ie/modules/python/assign2/20211669/reviews-2021-jun-01.html\n",
      "Scrapping http://mlg.ucd.ie/modules/python/assign2/20211669/reviews-2021-jul-01.html\n",
      "Scrapping http://mlg.ucd.ie/modules/python/assign2/20211669/reviews-2021-aug-01.html\n",
      "Scrapping http://mlg.ucd.ie/modules/python/assign2/20211669/reviews-2021-sep-01.html\n",
      "Scrapping http://mlg.ucd.ie/modules/python/assign2/20211669/reviews-2021-oct-01.html\n",
      "Scrapping http://mlg.ucd.ie/modules/python/assign2/20211669/reviews-2021-nov-01.html\n",
      "Scrapping http://mlg.ucd.ie/modules/python/assign2/20211669/reviews-2021-dec-01.html\n"
     ]
    }
   ],
   "source": [
    "# Creating list of four featres we need to extract\n",
    "star_rating=[]\n",
    "title_text=[]\n",
    "main_body_text=[]\n",
    "helpfulness_vote_information=[]\n",
    "total_vote_information=[]\n",
    "\n",
    "for a in first_soup.select(\"#all a\"):\n",
    "    next_link = a[\"href\"]\n",
    "   \n",
    "  #  print(next_link)\n",
    "    print(\"Scrapping\", base_url + next_link)\n",
    "    \n",
    "    \n",
    "    while True:\n",
    "        second_soup = BeautifulSoup(requests.get(base_url + next_link).content, \"html.parser\")\n",
    "        \n",
    "        reviews_links = second_soup.find_all('div', class_ = 'review')\n",
    "        reviews_links +=second_soup.find_all('div', class_ = 'review-alt')\n",
    "                   \n",
    "        for container in reviews_links:\n",
    "\n",
    "# star_rating Extraction\n",
    "            stars = container.h5.span.img[\"alt\"][0:1]   \n",
    "            star_rating.append(stars)\n",
    "\n",
    "# Title Extrction\n",
    "            title = container.h5.text.strip() \n",
    "            title_text.append(title)\n",
    "            \n",
    "# main_body Extrction\n",
    "            main_body = container.find(\"p\", {\"class\":\"review-body\"}).text.strip()\n",
    "            main_body_text.append(main_body)\n",
    "        \n",
    "# helpfulness Extrction\n",
    "            helpfulness = container.find_all(\"p\", {\"class\": \"metadata\"})[1].string.strip()\n",
    "            last_index = helpfulness.index(' users found this review helpful')\n",
    "            helpful_votes, total_votes = helpfulness[0:last_index].split(\" out of \")\n",
    "            helpfulness_vote_information.append(helpful_votes)\n",
    "            total_vote_information.append(total_votes)\n",
    "        \n",
    "        next_link = second_soup.select_one('a[aria-label=\"Next\"]')[\"href\"]      \n",
    "    \n",
    "        if next_link == \"#\":\n",
    "            break"
   ]
  },
  {
   "cell_type": "markdown",
   "id": "24616cbc",
   "metadata": {},
   "source": [
    "Here I create a Beautiful Soup object, first_page.content, which takes as its input the HTML content we grabbed earlier. Next, we need to grab all the HTML links.\n",
    "\n",
    "3  I store the collected data in DataFrame format."
   ]
  },
  {
   "cell_type": "code",
   "execution_count": 4,
   "id": "66c90056",
   "metadata": {},
   "outputs": [
    {
     "data": {
      "text/plain": [
       "'utf-8'"
      ]
     },
     "execution_count": 4,
     "metadata": {},
     "output_type": "execute_result"
    }
   ],
   "source": [
    "sys.getfilesystemencoding()"
   ]
  },
  {
   "cell_type": "code",
   "execution_count": 6,
   "id": "b5153c4b",
   "metadata": {},
   "outputs": [],
   "source": [
    "allreviews = pd.DataFrame(\n",
    "{\n",
    "    'Stars' : star_rating,\n",
    "    'Titles' : title_text,\n",
    "    'Main' : main_body_text,\n",
    "    'HelpfulVotes' : helpfulness_vote_information,\n",
    "    'TotalVotes' : total_vote_information,\n",
    "})\n",
    "allreviews.to_csv('allreviewsdata.csv', index = False, encoding = 'utf-8-sig')"
   ]
  },
  {
   "cell_type": "code",
   "execution_count": null,
   "id": "db96797f",
   "metadata": {},
   "outputs": [],
   "source": []
  }
 ],
 "metadata": {
  "kernelspec": {
   "display_name": "Python 3 (ipykernel)",
   "language": "python",
   "name": "python3"
  },
  "language_info": {
   "codemirror_mode": {
    "name": "ipython",
    "version": 3
   },
   "file_extension": ".py",
   "mimetype": "text/x-python",
   "name": "python",
   "nbconvert_exporter": "python",
   "pygments_lexer": "ipython3",
   "version": "3.9.7"
  }
 },
 "nbformat": 4,
 "nbformat_minor": 5
}
